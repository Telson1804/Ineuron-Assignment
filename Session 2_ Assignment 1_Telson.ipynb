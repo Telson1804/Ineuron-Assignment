{
 "cells": [
  {
   "cell_type": "markdown",
   "metadata": {},
   "source": [
    "## TASK 1\n",
    "### 1.1 Write a Python Program to implement your own myreduce() function which works exactly like Python's built-in function reduce()"
   ]
  },
  {
   "cell_type": "code",
   "execution_count": 1,
   "metadata": {},
   "outputs": [],
   "source": [
    "def myreduce(func,ele_list):\n",
    "    try:\n",
    "        result=ele_list[0]\n",
    "        for i in ele_list[1:]:\n",
    "            result=func(result,i)\n",
    "        return result  \n",
    "    except:\n",
    "        return \"Invalid Input\"\n",
    "def myadd(result,i):\n",
    "    result=result+i\n",
    "    return result"
   ]
  },
  {
   "cell_type": "code",
   "execution_count": 2,
   "metadata": {},
   "outputs": [
    {
     "data": {
      "text/plain": [
       "111"
      ]
     },
     "execution_count": 2,
     "metadata": {},
     "output_type": "execute_result"
    }
   ],
   "source": [
    "myreduce(myadd,[100,1,10])"
   ]
  },
  {
   "cell_type": "markdown",
   "metadata": {},
   "source": [
    "### 1.2 Write a Python program to implement your own myfilter() function which works exactly like Python's built-in function filter()"
   ]
  },
  {
   "cell_type": "code",
   "execution_count": 3,
   "metadata": {},
   "outputs": [],
   "source": [
    "def myfilter(func,ele_list):\n",
    "    try:\n",
    "        result=func(ele_list)\n",
    "        return result  \n",
    "    except:\n",
    "        return \"Invalid Input\"\n",
    "def mymax(ele_list):\n",
    "    result=ele_list[0]\n",
    "    for i in ele_list[1:]:\n",
    "        if result < i:\n",
    "            result=i\n",
    "    return result"
   ]
  },
  {
   "cell_type": "code",
   "execution_count": 4,
   "metadata": {},
   "outputs": [
    {
     "data": {
      "text/plain": [
       "10111"
      ]
     },
     "execution_count": 4,
     "metadata": {},
     "output_type": "execute_result"
    }
   ],
   "source": [
    "myfilter(mymax,(100,1,10111))"
   ]
  },
  {
   "cell_type": "markdown",
   "metadata": {},
   "source": [
    "### 2. Implement List comprehensions to produce the following lists. \n",
    " \n",
    "### Write List comprehensions to produce the following Lists \n",
    " \n",
    "### ['A', 'C', 'A', 'D', 'G', 'I', ’L’, ‘ D’] \n",
    " \n",
    "### ['x', 'xx', 'xxx', 'xxxx', 'y', 'yy', 'yyy', 'yyyy', 'z', 'zz', 'zzz', 'zzzz'] \n",
    " \n",
    "### ['x', 'y', 'z', 'xx', 'yy', 'zz', 'xx', 'yy', 'zz', 'xxxx', 'yyyy', 'zzzz'] \n",
    "\n",
    "### [[2], [3], [4], [3], [4], [5], [4], [5], [6]] \n",
    " \n",
    "### [[2, 3, 4, 5], [3, 4, 5, 6], [4, 5, 6, 7], [5, 6, 7, 8]] \n",
    " \n",
    "### [(1, 1), (2, 1), (3, 1), (1, 2), (2, 2), (3, 2), (1, 3), (2, 3), (3, 3)] "
   ]
  },
  {
   "cell_type": "code",
   "execution_count": 5,
   "metadata": {},
   "outputs": [
    {
     "data": {
      "text/plain": [
       "['A', 'C', 'A', 'D', 'G', 'I', 'L', 'D']"
      ]
     },
     "execution_count": 5,
     "metadata": {},
     "output_type": "execute_result"
    }
   ],
   "source": [
    "a='ACADGILD'\n",
    "l=[i for i in a]\n",
    "l"
   ]
  },
  {
   "cell_type": "code",
   "execution_count": 6,
   "metadata": {},
   "outputs": [
    {
     "data": {
      "text/plain": [
       "['x', 'xx', 'xxx', 'xxxx', 'y', 'yy', 'yyy', 'yyyy', 'z', 'zz', 'zzz', 'zzzz']"
      ]
     },
     "execution_count": 6,
     "metadata": {},
     "output_type": "execute_result"
    }
   ],
   "source": [
    "a='xyz'\n",
    "l=[i*n for i in a for n in range(1,5)]\n",
    "l"
   ]
  },
  {
   "cell_type": "code",
   "execution_count": 7,
   "metadata": {},
   "outputs": [
    {
     "data": {
      "text/plain": [
       "['x', 'y', 'z', 'xx', 'yy', 'zz', 'xxx', 'yyy', 'zzz', 'xxxx', 'yyyy', 'zzzz']"
      ]
     },
     "execution_count": 7,
     "metadata": {},
     "output_type": "execute_result"
    }
   ],
   "source": [
    "a='xyz'\n",
    "l=[i*n for n in range(1,5) for i in a]\n",
    "l"
   ]
  },
  {
   "cell_type": "code",
   "execution_count": 8,
   "metadata": {},
   "outputs": [
    {
     "data": {
      "text/plain": [
       "[[2], [3], [4], [3], [4], [5], [4], [5], [6]]"
      ]
     },
     "execution_count": 8,
     "metadata": {},
     "output_type": "execute_result"
    }
   ],
   "source": [
    "a=[2,3,4]\n",
    "l=[[i+n] for i in a for n in range(3) ]\n",
    "l"
   ]
  },
  {
   "cell_type": "code",
   "execution_count": 9,
   "metadata": {},
   "outputs": [
    {
     "data": {
      "text/plain": [
       "[[2, 3, 4, 5], [3, 4, 5, 6], [4, 5, 6, 7], [5, 6, 7, 8]]"
      ]
     },
     "execution_count": 9,
     "metadata": {},
     "output_type": "execute_result"
    }
   ],
   "source": [
    "a=[2,3,4,5]\n",
    "l=[[i+n for i in a ] for n in range(4) ]\n",
    "l"
   ]
  },
  {
   "cell_type": "code",
   "execution_count": 10,
   "metadata": {},
   "outputs": [
    {
     "data": {
      "text/plain": [
       "[(1, 1), (2, 1), (3, 1), (1, 2), (2, 2), (3, 2), (1, 3), (2, 3), (3, 3)]"
      ]
     },
     "execution_count": 10,
     "metadata": {},
     "output_type": "execute_result"
    }
   ],
   "source": [
    "a=[1,2,3]\n",
    "l=[(n,i) for i in a for n in range(1,4) ]\n",
    "l"
   ]
  },
  {
   "cell_type": "markdown",
   "metadata": {},
   "source": [
    "### 3.Implement a function longestWord() that takes a list of words and returns the longest one."
   ]
  },
  {
   "cell_type": "code",
   "execution_count": 11,
   "metadata": {},
   "outputs": [],
   "source": [
    "def longestWord(list_wrd):\n",
    "    res=list_wrd[0]\n",
    "    for i in list_wrd[1:]:\n",
    "        if len(i)>len(res):\n",
    "            res=i\n",
    "    return res"
   ]
  },
  {
   "cell_type": "code",
   "execution_count": 12,
   "metadata": {},
   "outputs": [
    {
     "data": {
      "text/plain": [
       "'ytyufyurtfu'"
      ]
     },
     "execution_count": 12,
     "metadata": {},
     "output_type": "execute_result"
    }
   ],
   "source": [
    "list_wrd=['qwe','yugugiu','ytyufyurtfu']\n",
    "longestWord(list_wrd)"
   ]
  },
  {
   "cell_type": "markdown",
   "metadata": {},
   "source": [
    "## TASK 2\n",
    "### 1.1 Write a Python Program(with class concepts) to find the area of the triangle using the below formula. \n",
    "###     area = (s*(s-a)*(s-b)*(s-c)) ** 0.5 \n",
    "###     Function to take the length of the sides of triangle from user should be defined in the parent class and function to calculate the area should be defined in subclass. "
   ]
  },
  {
   "cell_type": "code",
   "execution_count": 13,
   "metadata": {},
   "outputs": [],
   "source": [
    "class sides():\n",
    "    def __init__(self,a,b,c):  \n",
    "        self.a=a\n",
    "        self.b=b\n",
    "        self.c=c\n",
    "    def attribute(self):\n",
    "        print('Length of the sides of triangle is', self.a,self.b,self.c)\n",
    "class area(sides):\n",
    "    def __init__(self,a,b,c):\n",
    "        super().__init__(a,b,c)\n",
    "    def areaoftriangle(self):\n",
    "        s=(self.a+self.b+self.c)/2\n",
    "        area = (s*(s-self.a)*(s-self.b)*(s-self.c)) ** 0.5\n",
    "        return area"
   ]
  },
  {
   "cell_type": "code",
   "execution_count": 14,
   "metadata": {},
   "outputs": [],
   "source": [
    "b=area(2,3,55)"
   ]
  },
  {
   "cell_type": "code",
   "execution_count": 15,
   "metadata": {},
   "outputs": [
    {
     "data": {
      "text/plain": [
       "(4.610758605612729e-14+752.994023880668j)"
      ]
     },
     "execution_count": 15,
     "metadata": {},
     "output_type": "execute_result"
    }
   ],
   "source": [
    "b.areaoftriangle()"
   ]
  },
  {
   "cell_type": "markdown",
   "metadata": {},
   "source": [
    "### 1.2 Write a function filter_long_words() that takes a list of words and an integer n and returns the list of words that are longer than n. "
   ]
  },
  {
   "cell_type": "code",
   "execution_count": 16,
   "metadata": {},
   "outputs": [],
   "source": [
    "def filter_long_words(list_wrd,integer):\n",
    "    res=[]\n",
    "    try:\n",
    "        for i in list_wrd:\n",
    "            if len(i)>integer:\n",
    "                res.append(i)\n",
    "        return res\n",
    "    except:\n",
    "        print('Input list of words and an integer')"
   ]
  },
  {
   "cell_type": "code",
   "execution_count": 17,
   "metadata": {},
   "outputs": [
    {
     "data": {
      "text/plain": [
       "['abc', 'defg', 'mno', 'pqrstuv']"
      ]
     },
     "execution_count": 17,
     "metadata": {},
     "output_type": "execute_result"
    }
   ],
   "source": [
    "filter_long_words(['abc','defg','hi','j','kl','mno','pqrstuv'],2)"
   ]
  },
  {
   "cell_type": "markdown",
   "metadata": {},
   "source": [
    "### 2.1 Write a Python program using function concept that maps  list of words into a list of integers representing the lengths of the corresponding words."
   ]
  },
  {
   "cell_type": "code",
   "execution_count": 18,
   "metadata": {},
   "outputs": [],
   "source": [
    "def mymap(ele_list):\n",
    "    if type(ele_list)==list:\n",
    "        result=[]\n",
    "        try:\n",
    "            for i in ele_list:\n",
    "                result.append(len(i))\n",
    "            return result\n",
    "        except:\n",
    "            print('Please provide list of words as input')\n",
    "    else:\n",
    "        print('Please provide list of words as input')"
   ]
  },
  {
   "cell_type": "code",
   "execution_count": 19,
   "metadata": {},
   "outputs": [
    {
     "data": {
      "text/plain": [
       "[3, 2, 1, 2, 3, 7]"
      ]
     },
     "execution_count": 19,
     "metadata": {},
     "output_type": "execute_result"
    }
   ],
   "source": [
    "mymap(['abc','hi','j','kl','mno','pqrstuv'])"
   ]
  },
  {
   "cell_type": "markdown",
   "metadata": {},
   "source": [
    "### 2.2 Write a Python function which takes a character (i.e. a string of length 1) and returns True if it is a vowel, False otherwise."
   ]
  },
  {
   "cell_type": "code",
   "execution_count": 20,
   "metadata": {},
   "outputs": [],
   "source": [
    "def myvowel(char):\n",
    "    if type(char)==str and len(char)==1:\n",
    "        if char in ['a','e','i','o','u']:\n",
    "            return True\n",
    "        else:\n",
    "            return False\n",
    "    else:\n",
    "        print('Please provide character of length 1 as input')"
   ]
  },
  {
   "cell_type": "code",
   "execution_count": 21,
   "metadata": {},
   "outputs": [
    {
     "data": {
      "text/plain": [
       "False"
      ]
     },
     "execution_count": 21,
     "metadata": {},
     "output_type": "execute_result"
    }
   ],
   "source": [
    "myvowel('z')"
   ]
  },
  {
   "cell_type": "code",
   "execution_count": null,
   "metadata": {},
   "outputs": [],
   "source": []
  }
 ],
 "metadata": {
  "kernelspec": {
   "display_name": "Python",
   "language": "python",
   "name": "conda-env-python-py"
  },
  "language_info": {
   "codemirror_mode": {
    "name": "ipython",
    "version": 3
   },
   "file_extension": ".py",
   "mimetype": "text/x-python",
   "name": "python",
   "nbconvert_exporter": "python",
   "pygments_lexer": "ipython3",
   "version": "3.6.10"
  }
 },
 "nbformat": 4,
 "nbformat_minor": 4
}
